{
 "cells": [
  {
   "cell_type": "code",
   "execution_count": 3,
   "metadata": {},
   "outputs": [],
   "source": [
    "import pandas as pd\n",
    "import urllib\n",
    "import os\n",
    "import numpy as np"
   ]
  },
  {
   "cell_type": "code",
   "execution_count": 4,
   "metadata": {},
   "outputs": [],
   "source": [
    "train = pd.read_csv(\"train.csv\")"
   ]
  },
  {
   "cell_type": "code",
   "execution_count": 5,
   "metadata": {},
   "outputs": [],
   "source": [
    "# 15,000 unique landmarks"
   ]
  },
  {
   "cell_type": "code",
   "execution_count": 6,
   "metadata": {},
   "outputs": [
    {
     "data": {
      "text/plain": [
       "14951"
      ]
     },
     "execution_count": 6,
     "metadata": {},
     "output_type": "execute_result"
    }
   ],
   "source": [
    "len(train[\"landmark_id\"].unique())"
   ]
  },
  {
   "cell_type": "code",
   "execution_count": 7,
   "metadata": {},
   "outputs": [],
   "source": [
    "train_image_folder = \"./train_images\""
   ]
  },
  {
   "cell_type": "code",
   "execution_count": null,
   "metadata": {},
   "outputs": [],
   "source": []
  },
  {
   "cell_type": "code",
   "execution_count": 8,
   "metadata": {},
   "outputs": [
    {
     "data": {
      "text/plain": [
       "50337"
      ]
     },
     "execution_count": 8,
     "metadata": {},
     "output_type": "execute_result"
    }
   ],
   "source": [
    "np.sum(train[\"landmark_id\"] == 9633)"
   ]
  },
  {
   "cell_type": "code",
   "execution_count": 9,
   "metadata": {},
   "outputs": [
    {
     "data": {
      "text/plain": [
       "landmark_id\n",
       "1120         1\n",
       "13163        1\n",
       "11214        1\n",
       "7916         1\n",
       "494          1\n",
       "7977         1\n",
       "5030         1\n",
       "8232         1\n",
       "3239         1\n",
       "7598         1\n",
       "9608         1\n",
       "2683         1\n",
       "6706         1\n",
       "2859         1\n",
       "5745         1\n",
       "5617         1\n",
       "6708         1\n",
       "8309         1\n",
       "10331        1\n",
       "12864        1\n",
       "5865         1\n",
       "3230         1\n",
       "1033         1\n",
       "14092        1\n",
       "9936         1\n",
       "5164         1\n",
       "4583         1\n",
       "4753         1\n",
       "4047         1\n",
       "10151        1\n",
       "         ...  \n",
       "9029      2603\n",
       "428       3171\n",
       "3924      3363\n",
       "12172     3376\n",
       "2338      3427\n",
       "10045     3452\n",
       "7092      3543\n",
       "10184     3622\n",
       "3804      3695\n",
       "12718     3810\n",
       "2949      4919\n",
       "11784     5259\n",
       "12220     5313\n",
       "4987      5358\n",
       "8429      6426\n",
       "8063      6662\n",
       "10900     7038\n",
       "1553      7814\n",
       "13526     8667\n",
       "4352      8993\n",
       "2743      8997\n",
       "5376      9216\n",
       "6696      9222\n",
       "6651      9508\n",
       "5554     11147\n",
       "2061     13271\n",
       "9779     18471\n",
       "6599     23415\n",
       "6051     50148\n",
       "9633     50337\n",
       "Length: 14951, dtype: int64"
      ]
     },
     "execution_count": 9,
     "metadata": {},
     "output_type": "execute_result"
    }
   ],
   "source": [
    "train.groupby([\"landmark_id\"]).size().sort_values()"
   ]
  },
  {
   "cell_type": "code",
   "execution_count": 10,
   "metadata": {},
   "outputs": [],
   "source": [
    "filtered_landmarks = [6051, 9633] # These 2 landmarks have the most number of images related to them."
   ]
  },
  {
   "cell_type": "code",
   "execution_count": null,
   "metadata": {},
   "outputs": [],
   "source": []
  },
  {
   "cell_type": "code",
   "execution_count": 11,
   "metadata": {},
   "outputs": [],
   "source": [
    "filtered_data = train[train.landmark_id.isin(filtered_landmarks)]"
   ]
  },
  {
   "cell_type": "code",
   "execution_count": null,
   "metadata": {},
   "outputs": [],
   "source": [
    "n = filtered_data.shape[0]\n",
    "\n",
    "for i in range(15605, n):\n",
    "    try:\n",
    "        urllib.request.urlretrieve(filtered_data[\"url\"][i], train_image_folder + \"/\"\n",
    "                               + format(i, \"010\") + \".jpg\")\n",
    "    except:\n",
    "        print(\"Error occurred\")\n",
    "        continue"
   ]
  },
  {
   "cell_type": "code",
   "execution_count": 6,
   "metadata": {},
   "outputs": [
    {
     "data": {
      "text/plain": [
       "'http://static.panoramio.com/photos/original/70761397.jpg'"
      ]
     },
     "execution_count": 6,
     "metadata": {},
     "output_type": "execute_result"
    }
   ],
   "source": [
    "train.iloc[0,1]"
   ]
  },
  {
   "cell_type": "code",
   "execution_count": 14,
   "metadata": {},
   "outputs": [
    {
     "data": {
      "text/plain": [
       "'0000000010'"
      ]
     },
     "execution_count": 14,
     "metadata": {},
     "output_type": "execute_result"
    }
   ],
   "source": [
    "format(10, \"010\")"
   ]
  },
  {
   "cell_type": "code",
   "execution_count": null,
   "metadata": {
    "collapsed": true
   },
   "outputs": [],
   "source": []
  }
 ],
 "metadata": {
  "kernelspec": {
   "display_name": "Python 3",
   "language": "python",
   "name": "python3"
  },
  "language_info": {
   "codemirror_mode": {
    "name": "ipython",
    "version": 3
   },
   "file_extension": ".py",
   "mimetype": "text/x-python",
   "name": "python",
   "nbconvert_exporter": "python",
   "pygments_lexer": "ipython3",
   "version": "3.6.4"
  }
 },
 "nbformat": 4,
 "nbformat_minor": 2
}
